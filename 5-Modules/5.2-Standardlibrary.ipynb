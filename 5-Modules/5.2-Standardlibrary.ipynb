{
 "cells": [
  {
   "cell_type": "markdown",
   "id": "1fe422f5",
   "metadata": {},
   "source": [
    "### Standard Library Overview\n",
    "Python's Standard Library is a vast collection of modules and packages that come bundled with Python, providing a wide range of functionalities out of the box. Here's an overview of some of the most commonly used modules and packages in the Python Standard Library."
   ]
  },
  {
   "cell_type": "code",
   "execution_count": null,
   "id": "763e6b7f",
   "metadata": {},
   "outputs": [],
   "source": [
    "import array"
   ]
  }
 ],
 "metadata": {
  "kernelspec": {
   "display_name": "Python 3",
   "language": "python",
   "name": "python3"
  },
  "language_info": {
   "name": "python",
   "version": "3.12.0"
  }
 },
 "nbformat": 4,
 "nbformat_minor": 5
}
