{
 "cells": [
  {
   "cell_type": "markdown",
   "id": "75338b48",
   "metadata": {},
   "source": [
    "# Dictionaries\n",
    "\n",
    "Video Outline:\n",
    "\n",
    "1.Introduction to Dictionaries\n",
    "\n",
    "2.Creating Dictionaries\n",
    "\n",
    "3.Accessing Dictionary Elements\n",
    "\n",
    "4.Modifying Dictionary Elements\n",
    "\n",
    "5.Dictionary Methods\n",
    "\n",
    "6.Iterating Over Dictionaries\n",
    "\n",
    "7.Nested Dictionaries\n",
    "\n",
    "8.Dictionary Comprehensions\n",
    "\n",
    "9.Practical Examples and Common Errors\n",
    "\n",
    "# Introduction to Dictionaries\n",
    "\n",
    "Dictionaries are unordered collections of items. They store data in key-value pairs. Keys must be unique and immutable (e.g., strings, numbers, or tuples), while values can be of any type.\n",
    "\n"
   ]
  },
  {
   "cell_type": "code",
   "execution_count": 1,
   "id": "bad2f4b4",
   "metadata": {},
   "outputs": [
    {
     "name": "stdout",
     "output_type": "stream",
     "text": [
      "<class 'dict'>\n"
     ]
    }
   ],
   "source": [
    "## Creating Dictionaries\n",
    "empty_dict={}\n",
    "print(type(empty_dict))"
   ]
  },
  {
   "cell_type": "code",
   "execution_count": 2,
   "id": "c1557982",
   "metadata": {},
   "outputs": [
    {
     "data": {
      "text/plain": [
       "{}"
      ]
     },
     "execution_count": 2,
     "metadata": {},
     "output_type": "execute_result"
    }
   ],
   "source": [
    "empty_dict=dict()\n",
    "empty_dict"
   ]
  },
  {
   "cell_type": "code",
   "execution_count": 4,
   "id": "b091b4e9",
   "metadata": {},
   "outputs": [
    {
     "name": "stdout",
     "output_type": "stream",
     "text": [
      "{'name': 'Sreenivasulu', 'age': 32, 'grade': 24}\n",
      "<class 'dict'>\n"
     ]
    }
   ],
   "source": [
    "student={\"name\":\"Sreenivasulu\",\"age\":32,\"grade\":24}\n",
    "print(student)\n",
    "print(type(student))\n"
   ]
  },
  {
   "cell_type": "code",
   "execution_count": 5,
   "id": "f2c1b2c1",
   "metadata": {},
   "outputs": [
    {
     "name": "stdout",
     "output_type": "stream",
     "text": [
      "{'name': 25, 'age': 30}\n"
     ]
    }
   ],
   "source": [
    "# Single key is always used\n",
    "student={\"name\":\"sreenivas\",\"age\":30,\"name\":25}\n",
    "print(student)\n"
   ]
  },
  {
   "cell_type": "code",
   "execution_count": 1,
   "id": "585e5d35",
   "metadata": {},
   "outputs": [
    {
     "name": "stdout",
     "output_type": "stream",
     "text": [
      "{'name': 'sreenivas', 'age': 30, 'grade': 25}\n"
     ]
    }
   ],
   "source": [
    "## accessing Dictionary Elements\n",
    "student={\"name\":\"sreenivas\",\"age\":30,\"grade\":25}\n",
    "print(student)"
   ]
  },
  {
   "cell_type": "code",
   "execution_count": 11,
   "id": "274cf06f",
   "metadata": {},
   "outputs": [
    {
     "name": "stdout",
     "output_type": "stream",
     "text": [
      "25\n",
      "30\n",
      "25\n",
      "30\n",
      "None\n",
      "Not Available\n"
     ]
    }
   ],
   "source": [
    "## Accessing Dictionary elements\n",
    "print(student[\"grade\"])\n",
    "print(student[\"age\"])\n",
    "\n",
    "## Accessing using get() method\n",
    "print(student.get('grade'))\n",
    "print(student.get('age'))\n",
    "print(student.get('last_name'))\n",
    "\n",
    "print(student.get('last_name','Not Available'))"
   ]
  },
  {
   "cell_type": "code",
   "execution_count": 12,
   "id": "8256631f",
   "metadata": {},
   "outputs": [
    {
     "name": "stdout",
     "output_type": "stream",
     "text": [
      "{'name': 'sreenivas', 'age': 30, 'grade': 25}\n"
     ]
    }
   ],
   "source": [
    "## Modifying Dicitonary Elements\n",
    "## Dictionary are mutable,so you can add, update or delete elements\n",
    "print(student)"
   ]
  },
  {
   "cell_type": "code",
   "execution_count": 16,
   "id": "12602035",
   "metadata": {},
   "outputs": [
    {
     "name": "stdout",
     "output_type": "stream",
     "text": [
      "{'name': 'sreenivas', 'age': 31, 'grade': 'A', 'address': 'India'}\n",
      "{'name': 'sreenivas', 'age': 31, 'grade': 'A', 'address': 'India'}\n",
      "{'name': 'sreenivas', 'age': 31, 'grade': 'A', 'address': 'India'}\n",
      "{'name': 'sreenivas', 'age': 31, 'grade': 'A', 'address': 'India', 'ABC': 'abc'}\n"
     ]
    }
   ],
   "source": [
    "student[\"age\"]=31 ##update value for the key\n",
    "print(student)\n",
    "student[\"grade\"]=\"A\" ##update value for the key\n",
    "print(student)\n",
    "student[\"address\"]=\"India\" ## added a new key and value\n",
    "print(student)\n",
    "student[\"ABC\"]=\"abc\"\n",
    "print(student)"
   ]
  },
  {
   "cell_type": "code",
   "execution_count": null,
   "id": "126fcf0e",
   "metadata": {},
   "outputs": [
    {
     "name": "stdout",
     "output_type": "stream",
     "text": [
      "{'name': 'sreenivas', 'age': 31, 'grade': 'A'}\n"
     ]
    }
   ],
   "source": [
    "\n",
    "del student[\"address\"] ## delete key and value pair\n",
    "print(student)\n"
   ]
  },
  {
   "cell_type": "code",
   "execution_count": 25,
   "id": "ffeea4e0",
   "metadata": {},
   "outputs": [
    {
     "name": "stdout",
     "output_type": "stream",
     "text": [
      "dict_keys(['name', 'age', 'grade'])\n",
      "dict_values(['sreenivas', 31, 'A'])\n",
      "dict_items([('name', 'sreenivas'), ('age', 31), ('grade', 'A')])\n"
     ]
    }
   ],
   "source": [
    "## Dictionary methods\n",
    "\n",
    "keys = student.keys() ##get all the keys\n",
    "print(keys)\n",
    "values = student.values()\n",
    "print(values)\n",
    "\n",
    "items = student.items()\n",
    "print(items)"
   ]
  },
  {
   "cell_type": "code",
   "execution_count": 26,
   "id": "709dd336",
   "metadata": {},
   "outputs": [
    {
     "name": "stdout",
     "output_type": "stream",
     "text": [
      "{'name': 'sreenivas', 'age': 31, 'grade': 'A'}\n",
      "{'name': 'sreenivas', 'age': 31, 'grade': 'A'}\n"
     ]
    }
   ],
   "source": [
    "## shallow copy\n",
    "student_copy = student\n",
    "print(student)\n",
    "print(student_copy)"
   ]
  },
  {
   "cell_type": "code",
   "execution_count": 28,
   "id": "e28e0866",
   "metadata": {},
   "outputs": [
    {
     "name": "stdout",
     "output_type": "stream",
     "text": [
      "{'name': 'Sreenivas1', 'age': 31, 'grade': 'A'}\n",
      "{'name': 'Sreenivas1', 'age': 31, 'grade': 'A'}\n"
     ]
    }
   ],
   "source": [
    "student[\"name\"] =\"Sreenivas1\"\n",
    "student_copy = student\n",
    "print(student)\n",
    "print(student_copy)"
   ]
  },
  {
   "cell_type": "code",
   "execution_count": 29,
   "id": "abde6d42",
   "metadata": {},
   "outputs": [
    {
     "name": "stdout",
     "output_type": "stream",
     "text": [
      "{'name': 'Sreenivas2', 'age': 31, 'grade': 'A'}\n",
      "{'name': 'Sreenivas2', 'age': 31, 'grade': 'A'}\n"
     ]
    }
   ],
   "source": [
    "student[\"name\"] =\"Sreenivas2\"\n",
    "student_copy = student\n",
    "print(student)\n",
    "print(student_copy)"
   ]
  },
  {
   "cell_type": "code",
   "execution_count": 30,
   "id": "da08f85f",
   "metadata": {},
   "outputs": [
    {
     "name": "stdout",
     "output_type": "stream",
     "text": [
      "{'name': 'Sreenivas2', 'age': 31, 'grade': 'A'}\n",
      "{'name': 'Sreenivas2', 'age': 31, 'grade': 'A'}\n"
     ]
    }
   ],
   "source": [
    "student_copy1=student.copy() ## shallow copy\n",
    "print(student_copy1)\n",
    "print(student)"
   ]
  },
  {
   "cell_type": "code",
   "execution_count": 31,
   "id": "80a88218",
   "metadata": {},
   "outputs": [
    {
     "name": "stdout",
     "output_type": "stream",
     "text": [
      "{'name': 'Sreenivas2', 'age': 31, 'grade': 'A'}\n",
      "{'name': 'Sreenivas3', 'age': 31, 'grade': 'A'}\n"
     ]
    }
   ],
   "source": [
    "student[\"name\"]=\"Sreenivas3\"\n",
    "print(student_copy1)\n",
    "print(student)"
   ]
  },
  {
   "cell_type": "code",
   "execution_count": 32,
   "id": "c296d375",
   "metadata": {},
   "outputs": [
    {
     "name": "stdout",
     "output_type": "stream",
     "text": [
      "name\n",
      "age\n",
      "grade\n"
     ]
    }
   ],
   "source": [
    "### Iterating Over Dictionaries\n",
    "## You can use loops to iterate over dictionatries, keys,values,or items\n",
    "\n",
    "## Iterating over keys\n",
    "for keys in student.keys():\n",
    "    print(keys)"
   ]
  },
  {
   "cell_type": "code",
   "execution_count": 33,
   "id": "3795de8d",
   "metadata": {},
   "outputs": [
    {
     "name": "stdout",
     "output_type": "stream",
     "text": [
      "Sreenivas3\n",
      "31\n",
      "A\n"
     ]
    }
   ],
   "source": [
    "## Iterate over values\n",
    "for values in student.values():\n",
    "    print(values)"
   ]
  },
  {
   "cell_type": "code",
   "execution_count": 34,
   "id": "27e2a3eb",
   "metadata": {},
   "outputs": [
    {
     "name": "stdout",
     "output_type": "stream",
     "text": [
      "name,Sreenivas3\n",
      "age,31\n",
      "grade,A\n"
     ]
    }
   ],
   "source": [
    "## Iterate over key value pairs\n",
    "for keys,values in student.items():\n",
    "    print(f\"{keys},{values}\")"
   ]
  },
  {
   "cell_type": "code",
   "execution_count": 35,
   "id": "9412ce65",
   "metadata": {},
   "outputs": [
    {
     "name": "stdout",
     "output_type": "stream",
     "text": [
      "{'student1': {'name': 'sree', 'age': 30, 'grade': 'A'}, 'student2': {'name': 'vas', 'age': 50, 'grade': 'B'}}\n"
     ]
    }
   ],
   "source": [
    "## Nested Disctionaries\n",
    "student={\n",
    "    \"student1\":{\"name\":\"sree\",\"age\":30,\"grade\":\"A\"},\n",
    "    \"student2\":{\"name\":\"vas\",\"age\":50,\"grade\":\"B\"}\n",
    "}\n",
    "print(student)"
   ]
  },
  {
   "cell_type": "code",
   "execution_count": 36,
   "id": "d3ee41ea",
   "metadata": {},
   "outputs": [
    {
     "name": "stdout",
     "output_type": "stream",
     "text": [
      "{'name': 'sree', 'age': 30, 'grade': 'A'}\n",
      "{'name': 'vas', 'age': 50, 'grade': 'B'}\n"
     ]
    }
   ],
   "source": [
    "## Access nested dictionaries elementss\n",
    "print(student[\"student1\"])\n",
    "print(student[\"student2\"])"
   ]
  },
  {
   "cell_type": "code",
   "execution_count": 37,
   "id": "754c4087",
   "metadata": {},
   "outputs": [
    {
     "name": "stdout",
     "output_type": "stream",
     "text": [
      "30\n",
      "vas\n"
     ]
    }
   ],
   "source": [
    "print(student[\"student1\"][\"age\"])\n",
    "print(student[\"student2\"][\"name\"])"
   ]
  },
  {
   "cell_type": "code",
   "execution_count": 38,
   "id": "c76007cd",
   "metadata": {},
   "outputs": [
    {
     "data": {
      "text/plain": [
       "dict_items([('student1', {'name': 'sree', 'age': 30, 'grade': 'A'}), ('student2', {'name': 'vas', 'age': 50, 'grade': 'B'})])"
      ]
     },
     "execution_count": 38,
     "metadata": {},
     "output_type": "execute_result"
    }
   ],
   "source": [
    "student.items()"
   ]
  },
  {
   "cell_type": "code",
   "execution_count": 39,
   "id": "47c9044b",
   "metadata": {},
   "outputs": [
    {
     "name": "stdout",
     "output_type": "stream",
     "text": [
      "student1:{'name': 'sree', 'age': 30, 'grade': 'A'}\n",
      "name:sree\n",
      "age:30\n",
      "grade:A\n",
      "student2:{'name': 'vas', 'age': 50, 'grade': 'B'}\n",
      "name:vas\n",
      "age:50\n",
      "grade:B\n"
     ]
    }
   ],
   "source": [
    "## Iterating over nested dictionaries\n",
    "for student_id , student_info in student.items():\n",
    "    print(f\"{student_id}:{student_info}\")\n",
    "    for keys,values in student_info.items():\n",
    "        print(f\"{keys}:{values}\")"
   ]
  },
  {
   "cell_type": "code",
   "execution_count": 40,
   "id": "ba7aae93",
   "metadata": {},
   "outputs": [
    {
     "name": "stdout",
     "output_type": "stream",
     "text": [
      "{0: 0, 1: 1, 2: 4, 3: 9, 4: 16, 5: 25, 6: 36, 7: 49, 8: 64, 9: 81}\n"
     ]
    }
   ],
   "source": [
    "## Dictionary Comphrehension\n",
    "square = {x:x**2 for x in range(10)}\n",
    "print(square)"
   ]
  },
  {
   "cell_type": "code",
   "execution_count": 41,
   "id": "f66d5315",
   "metadata": {},
   "outputs": [
    {
     "name": "stdout",
     "output_type": "stream",
     "text": [
      "{0: 0, 2: 4, 4: 16, 6: 36, 8: 64}\n"
     ]
    }
   ],
   "source": [
    "## Condition dictionary comprehension\n",
    "even = {x:x**2 for x in range(10) if x%2==0}\n",
    "print(even)"
   ]
  },
  {
   "cell_type": "code",
   "execution_count": 42,
   "id": "d95912ea",
   "metadata": {},
   "outputs": [
    {
     "name": "stdout",
     "output_type": "stream",
     "text": [
      "{1: 1, 2: 2, 3: 3, 4: 4}\n"
     ]
    }
   ],
   "source": [
    "## Practical Examples\n",
    "\n",
    "## USe a dictionary to count he frequency of elements in list\n",
    "\n",
    "numbers=[1,2,2,3,3,3,4,4,4,4]\n",
    "frequency={}\n",
    "\n",
    "for number in numbers:\n",
    "    if number in frequency:\n",
    "        frequency[number]+=1\n",
    "    else:\n",
    "        frequency[number]=1\n",
    "print(frequency)"
   ]
  },
  {
   "cell_type": "code",
   "execution_count": 44,
   "id": "0ed6a8ad",
   "metadata": {},
   "outputs": [
    {
     "name": "stdout",
     "output_type": "stream",
     "text": [
      "{'a': 1, 'b': 3, 'c': 4}\n"
     ]
    }
   ],
   "source": [
    "## Merge 2 dictionaries into one\n",
    "\n",
    "dict1={\"a\":1,\"b\":2}\n",
    "dict2={\"b\":3,\"c\":4}\n",
    "merged_dict={**dict1,**dict2}\n",
    "print(merged_dict)"
   ]
  },
  {
   "cell_type": "markdown",
   "id": "390dbf3a",
   "metadata": {},
   "source": [
    "# Conclusion\n",
    "Dictionaries are powerful tools in Python for managing key-value pairs. They are used in a variety of real-world scenarios, such as counting word frequency, grouping data, storing configuration settings, managing phonebooks, tracking inventory, and caching results. Understanding how to leverage dictionaries effectively can greatly enhance the efficiency and readability of your code."
   ]
  }
 ],
 "metadata": {
  "kernelspec": {
   "display_name": "Python 3",
   "language": "python",
   "name": "python3"
  },
  "language_info": {
   "codemirror_mode": {
    "name": "ipython",
    "version": 3
   },
   "file_extension": ".py",
   "mimetype": "text/x-python",
   "name": "python",
   "nbconvert_exporter": "python",
   "pygments_lexer": "ipython3",
   "version": "3.12.0"
  }
 },
 "nbformat": 4,
 "nbformat_minor": 5
}
